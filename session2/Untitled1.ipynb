{
 "cells": [
  {
   "cell_type": "code",
   "execution_count": 1,
   "id": "9f1c963f-cc98-4bce-a5f0-ffcc970d2958",
   "metadata": {},
   "outputs": [
    {
     "name": "stdout",
     "output_type": "stream",
     "text": [
      "{'name': 'Jessica Wilkins', 'hobbies': ['music', 'watching TV', 'hanging out with friends']}\n"
     ]
    }
   ],
   "source": [
    "import json\n",
    "\n",
    "# assigns a JSON string to a variable called jess \n",
    "jess = '{\"name\": \"Jessica Wilkins\", \"hobbies\": [\"music\", \"watching TV\", \"hanging out with friends\"]}'\n",
    "\n",
    "# parses the data and assigns it to a variable called jess_dict\n",
    "jess_dict = json.loads(jess)\n",
    "\n",
    "# Printed output: {\"name\": \"Jessica Wilkins\", \"hobbies\": [\"music\", \"watching TV\", \"hanging out with friends\"]}\n",
    "print(jess_dict)"
   ]
  },
  {
   "cell_type": "code",
   "execution_count": null,
   "id": "c48a910c-8b07-49d2-99dd-fe6603ff2e66",
   "metadata": {},
   "outputs": [],
   "source": []
  }
 ],
 "metadata": {
  "kernelspec": {
   "display_name": "Python 3",
   "language": "python",
   "name": "python3"
  },
  "language_info": {
   "codemirror_mode": {
    "name": "ipython",
    "version": 3
   },
   "file_extension": ".py",
   "mimetype": "text/x-python",
   "name": "python",
   "nbconvert_exporter": "python",
   "pygments_lexer": "ipython3",
   "version": "3.8.8"
  }
 },
 "nbformat": 4,
 "nbformat_minor": 5
}
