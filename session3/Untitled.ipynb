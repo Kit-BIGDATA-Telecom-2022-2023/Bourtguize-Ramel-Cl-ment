{
 "cells": [
  {
   "cell_type": "code",
   "execution_count": 24,
   "id": "7009c999-237c-4614-8f58-8bba98041bd4",
   "metadata": {},
   "outputs": [],
   "source": [
    "import pandas as pd\n",
    "import re"
   ]
  },
  {
   "cell_type": "code",
   "execution_count": 8,
   "id": "bdaf9581-1241-4394-b6bc-89a4f4de20b1",
   "metadata": {},
   "outputs": [],
   "source": [
    "df=pd.read_csv('Webstat_Export.csv',delimiter=';')"
   ]
  },
  {
   "cell_type": "code",
   "execution_count": 11,
   "id": "87c9ad35-68f8-485c-b00b-7bc5738c0d22",
   "metadata": {},
   "outputs": [
    {
     "data": {
      "text/plain": [
       "(8666, 40)"
      ]
     },
     "execution_count": 11,
     "metadata": {},
     "output_type": "execute_result"
    }
   ],
   "source": [
    "df.shape"
   ]
  },
  {
   "cell_type": "code",
   "execution_count": 14,
   "id": "48fbbf32-fa4b-4e83-8fe0-01e7902f3fbe",
   "metadata": {},
   "outputs": [
    {
     "data": {
      "text/plain": [
       "(2360, 40)"
      ]
     },
     "execution_count": 14,
     "metadata": {},
     "output_type": "execute_result"
    }
   ],
   "source": [
    "df.dropna().shape"
   ]
  },
  {
   "cell_type": "code",
   "execution_count": 30,
   "id": "4c5c0a32-3989-4e4c-80fb-f62dba78485d",
   "metadata": {},
   "outputs": [
    {
     "data": {
      "text/plain": [
       "array(['Titre :', 'Dollar australien (AUD)', 'Lev bulgare (BGN)',\n",
       "       'Real brésilien (BRL)', 'Dollar canadien (CAD)',\n",
       "       'Franc suisse (CHF)', 'Yuan renminbi chinois (CNY)',\n",
       "       'Livre chypriote (CYP)', 'Couronne tchèque (CZK)',\n",
       "       'Couronne danoise (DKK)', 'Couronne estonienne (EEK)',\n",
       "       'Livre sterling (GBP)', 'Dollar de Hong Kong (HKD)',\n",
       "       'Kuna croate (HRK)', 'Forint hongrois (HUF)',\n",
       "       'Roupie indonésienne (IDR)', 'Sheqel israélien (ILS)',\n",
       "       'Roupie Indienne (100 paise)', 'Couronne islandaise (ISK)',\n",
       "       'Yen japonais (JPY)', 'Won coréen (KRW)', 'Litas lituanien (LTL)',\n",
       "       'Lats letton (LVL)', 'Livre maltaise (MTL)', 'Peso méxicain (MXN)',\n",
       "       'Ringgit malaisien (MYR)', 'Couronne norvégienne (NOK)',\n",
       "       'Dollar neo-zélandais (NZD)', 'Peso philippin (PHP)',\n",
       "       'Zloty polonais (PLN)', 'Leu roumain (RON)', 'Rouble russe (RUB)',\n",
       "       'Couronne suédoise (SEK)', 'Dollar de Singapour (SGD)',\n",
       "       'Tolar slovène (SIT)', 'Couronne slovaque (SKK)',\n",
       "       'Baht thaïlandais (THB)', 'Livre turque (TRY)',\n",
       "       'Dollar des Etats-Unis (USD)', 'Rand sud-africain (ZAR)'],\n",
       "      dtype=object)"
      ]
     },
     "execution_count": 30,
     "metadata": {},
     "output_type": "execute_result"
    }
   ],
   "source": [
    "df.columns.values"
   ]
  },
  {
   "cell_type": "code",
   "execution_count": 44,
   "id": "ffc7685a-3ca6-4698-b966-7376d1511af1",
   "metadata": {},
   "outputs": [
    {
     "data": {
      "text/plain": [
       "[<re.Match object; span=(1, 7), match='itre :'>,\n",
       " <re.Match object; span=(1, 18), match='ollar australien '>,\n",
       " <re.Match object; span=(1, 12), match='ev bulgare '>,\n",
       " <re.Match object; span=(1, 15), match='eal brésilien '>,\n",
       " <re.Match object; span=(1, 16), match='ollar canadien '>,\n",
       " <re.Match object; span=(1, 13), match='ranc suisse '>,\n",
       " <re.Match object; span=(1, 22), match='uan renminbi chinois '>,\n",
       " <re.Match object; span=(1, 16), match='ivre chypriote '>,\n",
       " <re.Match object; span=(1, 17), match='ouronne tchèque '>,\n",
       " <re.Match object; span=(1, 17), match='ouronne danoise '>,\n",
       " <re.Match object; span=(1, 20), match='ouronne estonienne '>,\n",
       " <re.Match object; span=(1, 15), match='ivre sterling '>,\n",
       " <re.Match object; span=(1, 10), match='ollar de '>,\n",
       " <re.Match object; span=(1, 12), match='una croate '>,\n",
       " <re.Match object; span=(1, 16), match='orint hongrois '>,\n",
       " <re.Match object; span=(1, 20), match='oupie indonésienne '>,\n",
       " <re.Match object; span=(1, 17), match='heqel israélien '>,\n",
       " <re.Match object; span=(1, 7), match='oupie '>,\n",
       " <re.Match object; span=(1, 20), match='ouronne islandaise '>,\n",
       " <re.Match object; span=(1, 13), match='en japonais '>,\n",
       " <re.Match object; span=(1, 11), match='on coréen '>,\n",
       " <re.Match object; span=(1, 16), match='itas lituanien '>,\n",
       " <re.Match object; span=(1, 12), match='ats letton '>,\n",
       " <re.Match object; span=(1, 15), match='ivre maltaise '>,\n",
       " <re.Match object; span=(1, 14), match='eso méxicain '>,\n",
       " <re.Match object; span=(1, 18), match='inggit malaisien '>,\n",
       " <re.Match object; span=(1, 21), match='ouronne norvégienne '>,\n",
       " <re.Match object; span=(1, 21), match='ollar neo-zélandais '>,\n",
       " <re.Match object; span=(1, 15), match='eso philippin '>,\n",
       " <re.Match object; span=(1, 15), match='loty polonais '>,\n",
       " <re.Match object; span=(1, 12), match='eu roumain '>,\n",
       " <re.Match object; span=(1, 13), match='ouble russe '>,\n",
       " <re.Match object; span=(1, 18), match='ouronne suédoise '>,\n",
       " <re.Match object; span=(1, 10), match='ollar de '>,\n",
       " <re.Match object; span=(1, 14), match='olar slovène '>,\n",
       " <re.Match object; span=(1, 18), match='ouronne slovaque '>,\n",
       " <re.Match object; span=(1, 17), match='aht thaïlandais '>,\n",
       " <re.Match object; span=(1, 13), match='ivre turque '>,\n",
       " <re.Match object; span=(1, 11), match='ollar des '>,\n",
       " <re.Match object; span=(1, 18), match='and sud-africain '>]"
      ]
     },
     "execution_count": 44,
     "metadata": {},
     "output_type": "execute_result"
    }
   ],
   "source": [
    "p=re.compile('[^A-Z]$')\n",
    "[re.search('[^(A-Z)]+',l) for l in df.columns.values]"
   ]
  },
  {
   "cell_type": "code",
   "execution_count": null,
   "id": "72bdf3d5-6e60-45f4-8be6-664409d5a317",
   "metadata": {},
   "outputs": [],
   "source": []
  }
 ],
 "metadata": {
  "kernelspec": {
   "display_name": "Python 3",
   "language": "python",
   "name": "python3"
  },
  "language_info": {
   "codemirror_mode": {
    "name": "ipython",
    "version": 3
   },
   "file_extension": ".py",
   "mimetype": "text/x-python",
   "name": "python",
   "nbconvert_exporter": "python",
   "pygments_lexer": "ipython3",
   "version": "3.8.8"
  }
 },
 "nbformat": 4,
 "nbformat_minor": 5
}
