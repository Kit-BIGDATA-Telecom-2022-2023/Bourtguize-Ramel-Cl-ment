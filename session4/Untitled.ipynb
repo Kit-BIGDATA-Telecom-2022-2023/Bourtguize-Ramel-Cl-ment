{
 "cells": [
  {
   "cell_type": "code",
   "execution_count": 2,
   "id": "7fb9c40f-db84-4f3f-9f39-97cf3257bfe9",
   "metadata": {},
   "outputs": [],
   "source": [
    "import requests\n",
    "import pandas as pd\n",
    "from bs4 import BeautifulSoup\n",
    "import re"
   ]
  },
  {
   "cell_type": "code",
   "execution_count": null,
   "id": "2c5a6bab-4cda-4201-b109-a4163d779bdf",
   "metadata": {},
   "outputs": [],
   "source": []
  },
  {
   "cell_type": "code",
   "execution_count": null,
   "id": "9ee51877-3014-4398-830a-1c7aa8977800",
   "metadata": {},
   "outputs": [],
   "source": []
  },
  {
   "cell_type": "code",
   "execution_count": null,
   "id": "cda560b7-272e-4106-a249-95c49ed26d5f",
   "metadata": {},
   "outputs": [],
   "source": []
  },
  {
   "cell_type": "code",
   "execution_count": 3,
   "id": "8351f1f0-3076-40d6-971d-fa919265b969",
   "metadata": {},
   "outputs": [],
   "source": [
    "#MARCHOTTE\n",
    "prices={}\n",
    "r = requests.get('https://kim.fspot.org/cours/page2.html')\n",
    "soup=BeautifulSoup(r.content)\n",
    "for div_tag in soup.findAll('div',{'class': \"pure-u-1 pure-u-md-1-3\"}):\n",
    "    prices[div_tag.find('h2').text]={'price':div_tag.find('span',{'class': \"pricing-table-price\"}).text,\n",
    "                                     'storage':div_tag.findAll('li')[3].text,\n",
    "                                     'databases':div_tag.findAll('li')[4].text\n",
    "                                    }"
   ]
  },
  {
   "cell_type": "code",
   "execution_count": 4,
   "id": "f103e041-72e8-41e3-a83d-268a1c692255",
   "metadata": {},
   "outputs": [
    {
     "data": {
      "text/plain": [
       "[<div class=\"pure-u-1 pure-u-md-1-3\">\n",
       " <div class=\"pricing-table pricing-table-free\">\n",
       " <div class=\"pricing-table-header\">\n",
       " <h2>Personal</h2>\n",
       " <span class=\"pricing-table-price\">\n",
       "                         $5 <span>per month</span>\n",
       " </span>\n",
       " </div>\n",
       " <ul class=\"pricing-table-list\">\n",
       " <li>Free setup</li>\n",
       " <li>Custom sub-domain</li>\n",
       " <li>Standard customer support</li>\n",
       " <li>1GB file storage</li>\n",
       " <li>1 database</li>\n",
       " <li>Unlimited bandwidth</li>\n",
       " </ul>\n",
       " <button class=\"button-choose pure-button\">Choose</button>\n",
       " </div>\n",
       " </div>,\n",
       " <div class=\"pure-u-1 pure-u-md-1-3\">\n",
       " <div class=\"pricing-table pricing-table-biz pricing-table-selected\">\n",
       " <div class=\"pricing-table-header\">\n",
       " <h2>Small Business</h2>\n",
       " <span class=\"pricing-table-price\">\n",
       "                         $25 <span>per month</span>\n",
       " </span>\n",
       " </div>\n",
       " <ul class=\"pricing-table-list\">\n",
       " <li>Free setup</li>\n",
       " <li>Use your own domain</li>\n",
       " <li>Standard customer support</li>\n",
       " <li>10GB file storage</li>\n",
       " <li>5 databases</li>\n",
       " <li>Unlimited bandwidth</li>\n",
       " </ul>\n",
       " <button class=\"button-choose pure-button\">Choose</button>\n",
       " </div>\n",
       " </div>,\n",
       " <div class=\"pure-u-1 pure-u-md-1-3\">\n",
       " <div class=\"pricing-table pricing-table-enterprise\">\n",
       " <div class=\"pricing-table-header\">\n",
       " <h2>Enterprise</h2>\n",
       " <span class=\"pricing-table-price\">\n",
       "                         $45 <span>per month</span>\n",
       " </span>\n",
       " </div>\n",
       " <ul class=\"pricing-table-list\">\n",
       " <li>Free setup</li>\n",
       " <li>Use your own domain</li>\n",
       " <li>Premium customer support</li>\n",
       " <li>100GB file storage</li>\n",
       " <li>25 databases</li>\n",
       " <li>Unlimited bandwidth</li>\n",
       " </ul>\n",
       " <button class=\"button-choose pure-button\">Choose</button>\n",
       " </div>\n",
       " </div>]"
      ]
     },
     "execution_count": 4,
     "metadata": {},
     "output_type": "execute_result"
    }
   ],
   "source": [
    "soup.findAll('div',{'class': \"pure-u-1 pure-u-md-1-3\"})\n"
   ]
  },
  {
   "cell_type": "code",
   "execution_count": 3,
   "id": "05123121-1517-4fe7-9153-377b107b317f",
   "metadata": {},
   "outputs": [],
   "source": [
    "#MARCHE SUR PAGE 2\n",
    "r = requests.get('https://kim.fspot.org/cours/page2.html')\n",
    "soup=BeautifulSoup(r.content)\n",
    "prices={}\n",
    "for div_tag in soup.findAll('div',{'class': \"pure-u-1 pure-u-md-1-3\"}):\n",
    "    prices[div_tag.find('h2').text]={'price':re.search('\\$[0-9]+',div_tag.find('span',{'class': \"pricing-table-price\"}).text).group(),\n",
    "                                     'storage':re.search('[0-9]+GB',div_tag.findAll('li')[3].text).group(),\n",
    "                                     'databases':int(re.search('[0-9]+',div_tag.findAll('li')[4].text).group())\n",
    "                                    }\n",
    "    "
   ]
  },
  {
   "cell_type": "code",
   "execution_count": 4,
   "id": "57123d06-2ba1-48d1-b81b-40444b527aee",
   "metadata": {},
   "outputs": [
    {
     "data": {
      "text/plain": [
       "{'Personal': {'price': '$5', 'storage': '1GB', 'databases': 1},\n",
       " 'Small Business': {'price': '$25', 'storage': '10GB', 'databases': 5},\n",
       " 'Enterprise': {'price': '$45', 'storage': '100GB', 'databases': 25}}"
      ]
     },
     "execution_count": 4,
     "metadata": {},
     "output_type": "execute_result"
    }
   ],
   "source": [
    "prices"
   ]
  },
  {
   "cell_type": "code",
   "execution_count": 5,
   "id": "55168c6d-c5b7-47a1-a369-a5b737234ee3",
   "metadata": {},
   "outputs": [],
   "source": [
    "K=soup.findAll('div',{'class': \"pure-u-1 pure-u-md-1-3\"})"
   ]
  },
  {
   "cell_type": "code",
   "execution_count": 6,
   "id": "52d54e4b-75bc-4f34-af37-b4e4b5fd910c",
   "metadata": {},
   "outputs": [
    {
     "data": {
      "text/plain": [
       "'5 databases'"
      ]
     },
     "execution_count": 6,
     "metadata": {},
     "output_type": "execute_result"
    }
   ],
   "source": [
    "K[1].findAll('li')[4].text"
   ]
  },
  {
   "cell_type": "code",
   "execution_count": 7,
   "id": "2f720d01-fcb1-41f7-be12-025168f3ea61",
   "metadata": {},
   "outputs": [],
   "source": [
    "r=re.search('[0-9]+',K[1].findAll('li')[4].text)\n"
   ]
  },
  {
   "cell_type": "code",
   "execution_count": 8,
   "id": "4e18a765-b652-4097-8b8d-4b323d8e34fb",
   "metadata": {},
   "outputs": [
    {
     "data": {
      "text/plain": [
       "5"
      ]
     },
     "execution_count": 8,
     "metadata": {},
     "output_type": "execute_result"
    }
   ],
   "source": [
    "int(r.group())"
   ]
  },
  {
   "cell_type": "code",
   "execution_count": 9,
   "id": "c32026df-83fe-432c-91e3-2efd6fb62f3b",
   "metadata": {},
   "outputs": [],
   "source": [
    "#MARCHE SUR PAGE 3\n",
    "    "
   ]
  },
  {
   "cell_type": "code",
   "execution_count": 18,
   "id": "5c4b5cbd-3a8e-4660-9d62-fcb702230425",
   "metadata": {},
   "outputs": [],
   "source": [
    "r = requests.get('https://kim.fspot.org/cours/page3.html')\n",
    "soup=BeautifulSoup(r.content)\n",
    "prices={}\n",
    "for div_tag in soup.findAll('div',{'class': \"pure-u-1 pure-u-md-1-4\"}):\n",
    "    prices[div_tag.find('h2').text]={'price':re.search('\\$[0-9]+',div_tag.find('span',{'class': \"pricing-table-price\"}).text).group(),\n",
    "                                     'storage':re.search('[0-9]+[TG]B',div_tag.findAll('li')[3].text).group(),\n",
    "                                     'databases':int(re.search('[0-9]+',div_tag.findAll('li')[4].text).group())\n",
    "                                    }"
   ]
  },
  {
   "cell_type": "code",
   "execution_count": null,
   "id": "d98feb7e-18a3-40bd-a11d-508626f62dd7",
   "metadata": {},
   "outputs": [],
   "source": [
    "\n"
   ]
  },
  {
   "cell_type": "code",
   "execution_count": 36,
   "id": "6e12e290-a354-40db-981b-8d2a132f6399",
   "metadata": {},
   "outputs": [],
   "source": [
    "    url='https://kim.fspot.org/cours/page3.html'\n",
    "    r = requests.get(url)\n",
    "    soup=BeautifulSoup(r.content)\n",
    "    prices={}\n",
    "    for div_tag in soup.findAll('div',{'class': \"pure-u-1 pure-u-md-1-\"+str(int(re.search('[0-9]',url).group())+1)}):\n",
    "        prices[div_tag.find('h2').text]={'price':re.search('\\$[0-9]+',div_tag.find('span',{'class': \"pricing-table-price\"}).text).group(),\n",
    "                                     'storage':re.search('[0-9]+[TG]B',div_tag.findAll('li')[3].text).group(),\n",
    "                                     'databases':int(re.search('[0-9]+',div_tag.findAll('li')[4].text).group())\n",
    "                                    }"
   ]
  },
  {
   "cell_type": "code",
   "execution_count": 37,
   "id": "a3bf5e03-5fe1-4306-9d6b-17e7bf17616a",
   "metadata": {},
   "outputs": [
    {
     "data": {
      "text/plain": [
       "{'Personal': {'price': '$5', 'storage': '1GB', 'databases': 1},\n",
       " 'Small Business': {'price': '$25', 'storage': '10GB', 'databases': 5},\n",
       " 'Enterprise': {'price': '$45', 'storage': '100GB', 'databases': 25},\n",
       " 'Privilege': {'price': '$99', 'storage': '1TB', 'databases': 100}}"
      ]
     },
     "execution_count": 37,
     "metadata": {},
     "output_type": "execute_result"
    }
   ],
   "source": [
    "prices"
   ]
  },
  {
   "cell_type": "code",
   "execution_count": 35,
   "id": "0128ec0b-07fa-487e-ac5e-6b6488b39ab0",
   "metadata": {},
   "outputs": [
    {
     "data": {
      "text/plain": [
       "'pure-u-1 pure-u-md-1-2'"
      ]
     },
     "execution_count": 35,
     "metadata": {},
     "output_type": "execute_result"
    }
   ],
   "source": [
    "\"pure-u-1 pure-u-md-1-\"+re.search('[0-9]',url).group()"
   ]
  },
  {
   "cell_type": "code",
   "execution_count": 19,
   "id": "1cb52ae9-fa45-4bfe-bb7b-35bdb6df3b5f",
   "metadata": {},
   "outputs": [],
   "source": [
    "url3='https://www.beerwulf.com/fr-fr/p/bieres/affligem-blonde-fut-5l'\n",
    "r = requests.get(url3)\n",
    "soup=BeautifulSoup(r.content)\n",
    "beer_infos={}\n",
    "l=soup.findAll('dl',{'class':'row'})"
   ]
  },
  {
   "cell_type": "code",
   "execution_count": 20,
   "id": "e500dfce-78da-4820-8bc6-1a1a9622b4a5",
   "metadata": {},
   "outputs": [
    {
     "data": {
      "text/plain": [
       "[<dl class=\"row\">\n",
       " <dt class=\"small-6 medium-3 columns\">Style</dt>\n",
       " <dd class=\"small-6 medium-9 columns\">\n",
       " <a href=\"/fr-fr/c/biereblonde\">Bière Blonde</a>\n",
       " </dd>\n",
       " <dt class=\"small-6 medium-3 columns\">Contenu</dt>\n",
       " <dd class=\"small-6 medium-9 columns js-beer-volume\" data-volume=\"5 Litres\">5 Litres</dd>\n",
       " <dt class=\"small-6 medium-3 columns\">Degré d’alcool</dt>\n",
       " <dd class=\"small-6 medium-9 columns\">6,8%</dd>\n",
       " <dt class=\"small-6 medium-3 columns\">Origine</dt>\n",
       " <dd class=\"small-6 medium-9 columns js-beer-country\" data-country=\"Belgique\">\n",
       " Belgique        </dd>\n",
       " <dt class=\"small-6 medium-3 columns\">Brasseur</dt>\n",
       " <dd class=\"small-6 medium-9 columns\">\n",
       " <a href=\"/fr-fr/p/brasseurs/affligem-brasserie\">Affligem </a>\n",
       " </dd>\n",
       " </dl>]"
      ]
     },
     "execution_count": 20,
     "metadata": {},
     "output_type": "execute_result"
    }
   ],
   "source": [
    "l"
   ]
  },
  {
   "cell_type": "code",
   "execution_count": 43,
   "id": "c9d6d6c3-f970-4ecc-b83b-afd7c1885f76",
   "metadata": {},
   "outputs": [],
   "source": [
    "beer_infos={}\n",
    "for dt_tag in soup.findAll('dt',{'class':'small-6 medium-3 columns'}):\n",
    "    for val in ['Contenu','Degré d’alcool','Origine','Brasseur']:\n",
    "        if(dt_tag.text==val):\n",
    "            beer_infos[val]=dt_tag.find_next().text\n",
    "            "
   ]
  },
  {
   "cell_type": "code",
   "execution_count": 44,
   "id": "d464b3cd-135c-4dfb-a364-b25077fd2eb4",
   "metadata": {},
   "outputs": [
    {
     "data": {
      "text/plain": [
       "{'Contenu': '5 Litres',\n",
       " 'Degré d’alcool': '6,8%',\n",
       " 'Origine': '\\r\\nBelgique        ',\n",
       " 'Brasseur': '\\nAffligem \\n'}"
      ]
     },
     "execution_count": 44,
     "metadata": {},
     "output_type": "execute_result"
    }
   ],
   "source": [
    "beer_infos"
   ]
  },
  {
   "cell_type": "code",
   "execution_count": null,
   "id": "6ba025a9-9323-4616-af49-033bea4d2d8f",
   "metadata": {},
   "outputs": [],
   "source": []
  }
 ],
 "metadata": {
  "kernelspec": {
   "display_name": "Python 3",
   "language": "python",
   "name": "python3"
  },
  "language_info": {
   "codemirror_mode": {
    "name": "ipython",
    "version": 3
   },
   "file_extension": ".py",
   "mimetype": "text/x-python",
   "name": "python",
   "nbconvert_exporter": "python",
   "pygments_lexer": "ipython3",
   "version": "3.8.8"
  }
 },
 "nbformat": 4,
 "nbformat_minor": 5
}
